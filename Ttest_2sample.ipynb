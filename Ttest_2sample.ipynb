{
 "cells": [
  {
   "cell_type": "code",
   "execution_count": 22,
   "metadata": {},
   "outputs": [],
   "source": [
    "import scipy.stats as stats\n",
    "import seaborn as sns\n",
    "import numpy as np\n",
    "from scipy import special as special\n",
    "import math"
   ]
  },
  {
   "cell_type": "code",
   "execution_count": 23,
   "metadata": {},
   "outputs": [],
   "source": [
    "populationData = np.random.normal(loc = 50 , scale = 25, size = 100000)\n",
    "sampleData1 = np.random.choice(populationData, 100)\n",
    "sampleData2 = np.random.choice(populationData, 100)"
   ]
  },
  {
   "cell_type": "code",
   "execution_count": 24,
   "metadata": {},
   "outputs": [],
   "source": [
    "class Ttest_2sample:\n",
    "    \n",
    "    def __init__(self, sampleData1, sampleData2):\n",
    "        \n",
    "        self.sampleData1 = sampleData1\n",
    "        self.sampleData2 = sampleData2\n",
    "        \n",
    "        \n",
    "        #calculate  mean, std for both samples\n",
    "        self.xBar1, self.xBar2 = np.mean(self.sampleData1), np.mean(self.sampleData2)\n",
    "        sampleVar1, sampleVar2 = np.var(self.sampleData1), np.var(self.sampleData2)\n",
    "        n1, n2 = len(self.sampleData1),  len(self.sampleData2)\n",
    "        \n",
    "        #caluclate degrees of freedom\n",
    "        dfnum = (sampleVar1**2/n1 + sampleVar2**2/n2)**2\n",
    "        dfdenom = (sampleVar1**2/n1)**2/n1-1 + (sampleVar2**2/n2)**2/n2-1\n",
    "        df = math.floor(dfnum/dfdenom)\n",
    "        \n",
    "        #calculate avg. standard error for both samples\n",
    "        standardErrorMean1, standardErrorMean2 =  sampleVar1/n1, sampleVar2/n2\n",
    "        \n",
    "        #t-statistic = difference of means/sqrt(sum of avg standard error)\n",
    "        self.t = (self.xBar1-self.xBar2)/np.sqrt(standardErrorMean1+standardErrorMean2)\n",
    "        \n",
    "        #given a student's t-distribution, calculate the probability that we would observe a t-statistic equal or more extreme than the one we calculated.\n",
    "            #( t <= -abs(caluclated t-statistic) or t >= abs(caluclated t-statistic) )\n",
    "        self.pValue = stats.t.cdf(x = -np.abs(self.t), df= df) * 2\n",
    "        \n",
    "    \n",
    "    def runTest(self, alpha = 0.05):\n",
    "        return ({'t': self.t,\n",
    "                 'p-value': self.pValue, \n",
    "                 'statSig':self.pValue < alpha, #difference is stat sig if pValue < user-defined alpha\n",
    "                 'sampleMean1': self.xBar1,\n",
    "                 'sampleMean2': self.xBar2,\n",
    "                 'meanDiff': self.xBar1-self.xBar2\n",
    "                })"
   ]
  },
  {
   "cell_type": "code",
   "execution_count": 25,
   "metadata": {},
   "outputs": [
    {
     "data": {
      "text/plain": [
       "{'t': -0.862496685861606,\n",
       " 'p-value': 0.3894524564767222,\n",
       " 'statSig': False,\n",
       " 'sampleMean1': 49.26333362642016,\n",
       " 'sampleMean2': 52.057806210604966,\n",
       " 'meanDiff': -2.7944725841848026}"
      ]
     },
     "execution_count": 25,
     "metadata": {},
     "output_type": "execute_result"
    },
    {
     "data": {
      "image/png": "[encoded data removed]",
      "text/plain": [
       "<Figure size 432x288 with 1 Axes>"
      ]
     },
     "metadata": {
      "needs_background": "light"
     },
     "output_type": "display_data"
    }
   ],
   "source": [
    "sns.distplot(sampleData1)\n",
    "sns.distplot(sampleData2)\n",
    "\n",
    "Ttest_2sample(sampleData1, sampleData2).runTest()"
   ]
  },
  {
   "cell_type": "code",
   "execution_count": 28,
   "metadata": {},
   "outputs": [
    {
     "data": {
      "text/plain": [
       "Ttest_indResult(statistic=-7.5681610136990445, pvalue=1.3997522492832822e-12)"
      ]
     },
     "execution_count": 28,
     "metadata": {},
     "output_type": "execute_result"
    }
   ],
   "source": [
    "stats.ttest_ind(sampleData1,sampleData3)"
   ]
  },
  {
   "cell_type": "code",
   "execution_count": null,
   "metadata": {},
   "outputs": [],
   "source": []
  }
 ],
 "metadata": {
  "kernelspec": {
   "display_name": "Python 3",
   "language": "python",
   "name": "python3"
  },
  "language_info": {
   "codemirror_mode": {
    "name": "ipython",
    "version": 3
   },
   "file_extension": ".py",
   "mimetype": "text/x-python",
   "name": "python",
   "nbconvert_exporter": "python",
   "pygments_lexer": "ipython3",
   "version": "3.8.3"
  }
 },
 "nbformat": 4,
 "nbformat_minor": 4
}
