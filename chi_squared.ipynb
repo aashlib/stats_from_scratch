{
 "cells": [
  {
   "cell_type": "code",
   "execution_count": 136,
   "metadata": {},
   "outputs": [],
   "source": [
    "import numpy as np\n",
    "import scipy.stats as stats\n",
    "import pandas as pd\n",
    "import math\n",
    "import seaborn as sns"
   ]
  },
  {
   "cell_type": "code",
   "execution_count": 209,
   "metadata": {},
   "outputs": [],
   "source": [
    "class ChiSquareTest: \n",
    "    #Chi-squared goodness of fit test. Used to determine whether a frequency of a variable follows an expected frequency\n",
    "    def __init__(self,observedCounts, expectedProps):\n",
    "        \n",
    "        self.expectedProps = np.array(expectedProps)\n",
    "        self.observedCounts = np.array(observedCounts)\n",
    "        \n",
    "        #expected counts = expected proportion for each category * total # observations in sample\n",
    "        self.expectedCounts = np.array([e*sum(self.observedCounts) for e in self.expectedProps])\n",
    "        \n",
    "    def runTest(self):\n",
    "        \n",
    "        #chi2 statistic = sum((observed-expected)**2/expected)\n",
    "        self.chi2 = sum((self.observedCounts-self.expectedCounts)**2/self.expectedCounts)\n",
    "        \n",
    "        #use chi square distribution cdf function to determine probability that chi2 >= calculated chi2\n",
    "        #degrees of freedom = # of categories - 1\n",
    "        self.pValue = 1-stats.chi2.cdf(self.chi2, df=len(self.observedCounts)-1)\n",
    "        \n",
    "        return (self.chi2, self.pValue)"
   ]
  },
  {
   "cell_type": "code",
   "execution_count": 210,
   "metadata": {},
   "outputs": [
    {
     "name": "stdout",
     "output_type": "stream",
     "text": [
      "running tests\n",
      "(3.9583333333333335, 0.265998669940964)\n",
      "(365.8333333333333, 0.0)\n",
      "tests succeeded\n"
     ]
    }
   ],
   "source": [
    "if __name__ == '__main__':\n",
    "    print('running tests')\n",
    "\n",
    "    observedCounts = [25, 35, 50, 90]\n",
    "    expectedProps = [0.15,0.2,0.2,0.45]\n",
    "\n",
    "    test = ChiSquareTest(observedCounts, expectedProps )\n",
    "    testResult = test.runTest()\n",
    "    print(testResult)\n",
    "    \n",
    "    assert round(stats.chisquare(observedCounts, test.expectedCounts)[1],5) == round(testResult[1],5)\n",
    "    \n",
    "    expectedProps = [0.6,0.2,0.1,0.1]\n",
    "    test = ChiSquareTest(observedCounts, expectedProps )\n",
    "    testResult = test.runTest()\n",
    "    print(testResult)\n",
    "    \n",
    "    assert round(stats.chisquare(observedCounts, test.expectedCounts)[1],5) == round(testResult[1],5)\n",
    "    \n",
    "    print('tests succeeded')"
   ]
  },
  {
   "cell_type": "code",
   "execution_count": 204,
   "metadata": {},
   "outputs": [],
   "source": []
  },
  {
   "cell_type": "code",
   "execution_count": null,
   "metadata": {},
   "outputs": [],
   "source": []
  }
 ],
 "metadata": {
  "kernelspec": {
   "display_name": "Python 3",
   "language": "python",
   "name": "python3"
  },
  "language_info": {
   "codemirror_mode": {
    "name": "ipython",
    "version": 3
   },
   "file_extension": ".py",
   "mimetype": "text/x-python",
   "name": "python",
   "nbconvert_exporter": "python",
   "pygments_lexer": "ipython3",
   "version": "3.8.3"
  }
 },
 "nbformat": 4,
 "nbformat_minor": 4
}
