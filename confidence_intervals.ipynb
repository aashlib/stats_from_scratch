{
 "cells": [
  {
   "cell_type": "code",
   "execution_count": 157,
   "metadata": {},
   "outputs": [],
   "source": [
    "import numpy as np\n",
    "import seaborn as sns\n",
    "import scipy.stats as stats\n",
    "import statsmodels.api as sm"
   ]
  },
  {
   "cell_type": "code",
   "execution_count": 158,
   "metadata": {},
   "outputs": [],
   "source": [
    "class ConfidenceInterval:\n",
    "    \n",
    "    def __init__(self, sampleData, alpha = 0.05, populationProportions = False):\n",
    "        \n",
    "        self.sampleData = sampleData\n",
    "        self.alpha = alpha\n",
    "        self.populationProportions = populationProportions\n",
    "        self.n = len(self.sampleData)\n",
    "            \n",
    "        if self.populationProportions:\n",
    "            self.pHat = sum(self.sampleData)/self.n\n",
    "            self.SE = np.sqrt(self.pHat*(1-self.pHat)/self.n)\n",
    "            self.xBar = None\n",
    "                        \n",
    "        else:\n",
    "            self.xBar = np.mean(self.sampleData)\n",
    "            self.SE = np.std(self.sampleData)/np.sqrt(self.n)\n",
    "            self.pHat = None\n",
    "        \n",
    "    def getInterval(self):\n",
    "        \n",
    "        if self.populationProportions:\n",
    "            #for two-tailed CI, find z value where a value at or more extreme occurs < (alpha)/2 % of the time\n",
    "            stats.zValue = np.abs(stats.norm.ppf(self.alpha/2))\n",
    "            #CI = pHat +- Zscore * Avg. Standard Error\n",
    "            self.interval = (self.pHat - stats.zValue*self.SE, self.pHat + stats.zValue*self.SE)\n",
    "        \n",
    "        else:\n",
    "            #for two-tailed CI, find t value where a value at or more extreme occurs < (alpha)/2 % of the time\n",
    "            #uses inverse of CDF of t-distribution f(probability) = tScore\n",
    "            stats.tValue = np.abs(stats.t.ppf((self.alpha)/2, df = self.n -1))\n",
    "            #CI = Xbar +- Tscore * Avg. Standard Error\n",
    "            self.interval = (self.xBar - stats.tValue*self.SE, self.xBar + stats.tValue*self.SE)\n",
    "        \n",
    "        print({'sampleEstimate': self.pHat if self.pHat else self.xBar,\n",
    "               'confidenceInterval': self.interval\n",
    "              })\n",
    "        return self.interval\n",
    "        "
   ]
  },
  {
   "cell_type": "code",
   "execution_count": 159,
   "metadata": {},
   "outputs": [
    {
     "name": "stdout",
     "output_type": "stream",
     "text": [
      "running tests\n",
      "true population mean: 50.01237847429673\n",
      "{'sampleEstimate': 51.53452853698198, 'confidenceInterval': (46.448383687746045, 56.620673386217916)}\n",
      "true population proportion: 0.7\n",
      "{'sampleEstimate': 0.64, 'confidenceInterval': (0.5459217287420775, 0.7340782712579226)}\n",
      "tests succeeded\n"
     ]
    }
   ],
   "source": [
    "if __name__ == '__main__':\n",
    "    print('running tests')\n",
    "    ALPHA = 0.05\n",
    "    POPULATION_SIZE = 1000000\n",
    "    \n",
    "    #mean\n",
    "    populationData = np.random.normal(loc = 50 , scale = 25, size = POPULATION_SIZE)\n",
    "    print('true population mean: {}'.format(np.mean(populationData)))\n",
    "    sampleData = np.random.choice(populationData, 100)\n",
    "    \n",
    "    assert stats.t.interval(alpha = 1-ALPHA,\n",
    "                 df=len(sampleData)-1,\n",
    "                 loc=np.mean(sampleData),\n",
    "                 scale=stats.sem(sampleData, ddof=0)\n",
    "                )  == ConfidenceInterval(sampleData, alpha=ALPHA).getInterval()\n",
    "    \n",
    "    \n",
    "    #population proportions\n",
    "    populationDataProp = np.concatenate((np.zeros(int(POPULATION_SIZE*0.3)), np.ones(int(POPULATION_SIZE*0.7))))\n",
    "    print('true population proportion: {}'.format(sum(populationDataProp)/len(populationDataProp)))\n",
    "    sampleDataProp = np.random.choice(populationDataProp , 100)\n",
    "\n",
    "    assert ConfidenceInterval(sampleDataProp,\n",
    "                              alpha = ALPHA,\n",
    "                              populationProportions = True\n",
    "                      ).getInterval() == sm.stats.proportion_confint(\n",
    "        count = sum(sampleDataProp),\n",
    "        nobs = len(sampleDataProp),\n",
    "        alpha = ALPHA,\n",
    "        method='normal'\n",
    "                              )\n",
    "    \n",
    "    print('tests succeeded')"
   ]
  },
  {
   "cell_type": "code",
   "execution_count": null,
   "metadata": {},
   "outputs": [],
   "source": []
  }
 ],
 "metadata": {
  "kernelspec": {
   "display_name": "Python 3",
   "language": "python",
   "name": "python3"
  },
  "language_info": {
   "codemirror_mode": {
    "name": "ipython",
    "version": 3
   },
   "file_extension": ".py",
   "mimetype": "text/x-python",
   "name": "python",
   "nbconvert_exporter": "python",
   "pygments_lexer": "ipython3",
   "version": "3.8.3"
  }
 },
 "nbformat": 4,
 "nbformat_minor": 4
}
